{
 "cells": [
  {
   "cell_type": "markdown",
   "id": "d3bfc191-8885-42ee-b0a0-bbab867c6f9f",
   "metadata": {
    "tags": []
   },
   "source": [
    "# Lab | Flow Control"
   ]
  },
  {
   "cell_type": "markdown",
   "id": "3851fcd1-cf98-4653-9c89-e003b7ec9400",
   "metadata": {},
   "source": [
    "## Exercise: Managing Customer Orders Optimized\n",
    "\n",
    "In the last lab, you were starting an online store that sells various products. To ensure smooth operations, you developed a program that manages customer orders and inventory.\n",
    "\n",
    "You did so without using flow control. Let's go a step further and improve this code.\n",
    "\n",
    "Follow the steps below to complete the exercise:\n",
    "\n",
    "1. Look at your code from the lab data structures, and improve repeated code with loops.\n",
    "\n",
    "2. Instead of asking the user to input the name of three products that a customer wants to order, do the following:\n",
    "    \n",
    "    a. Prompt the user to enter the name of a product that a customer wants to order.\n",
    "    \n",
    "    b. Add the product name to the \"customer_orders\" set.\n",
    "    \n",
    "    c. Ask the user if they want to add another product (yes/no).\n",
    "    \n",
    "    d. Continue the loop until the user does not want to add another product.\n",
    "\n",
    "3. Instead of updating the inventory by subtracting 1 from the quantity of each product, only do it for  the products that were ordered (those in \"customer_orders\")."
   ]
  },
  {
   "cell_type": "code",
   "execution_count": 10,
   "id": "ebcdb57b-5a02-4ece-b2db-b8f586ba5cab",
   "metadata": {},
   "outputs": [
    {
     "name": "stdin",
     "output_type": "stream",
     "text": [
      "Please enter the quantity of t-shirt: 5\n",
      "Please enter the quantity of mug: 5\n",
      "Please enter the quantity of hat: 5\n",
      "Please enter the quantity of book: 5\n",
      "Please enter the quantity of keychain: 5\n",
      "Please enter your order:  m\n"
     ]
    },
    {
     "name": "stdout",
     "output_type": "stream",
     "text": [
      "Item not recognized\n"
     ]
    },
    {
     "name": "stdin",
     "output_type": "stream",
     "text": [
      "Do you want to add another product? (yes/no):  yes\n",
      "Please enter your order:  mug\n",
      "Do you want to add another product? (yes/no):  yes\n",
      "Please enter your order:  b\n"
     ]
    },
    {
     "name": "stdout",
     "output_type": "stream",
     "text": [
      "Item not recognized\n"
     ]
    },
    {
     "name": "stdin",
     "output_type": "stream",
     "text": [
      "Do you want to add another product? (yes/no):  yes\n",
      "Please enter your order:  book\n",
      "Do you want to add another product? (yes/no):  yes\n",
      "Please enter your order:  g\n"
     ]
    },
    {
     "name": "stdout",
     "output_type": "stream",
     "text": [
      "Item not recognized\n"
     ]
    },
    {
     "name": "stdin",
     "output_type": "stream",
     "text": [
      "Do you want to add another product? (yes/no):  no\n"
     ]
    },
    {
     "name": "stdout",
     "output_type": "stream",
     "text": [
      "{'book', 'mug'}\n",
      "Order Statistics:\n",
      "Total Products Ordered: 2\n",
      "Percentage of Products Ordered: 8.0%\n",
      "t-shirt: 5\n",
      "mug: 4\n",
      "hat: 5\n",
      "book: 4\n",
      "keychain: 5\n"
     ]
    }
   ],
   "source": [
    "\n",
    "products = [\"t-shirt\", \"mug\", \"hat\", \"book\", \"keychain\"]\n",
    "\n",
    "\n",
    "inventory = {}\n",
    "total_products = 0\n",
    "\n",
    "# 1\n",
    "for product in products:\n",
    "    inventory[product] = int(input(f\"Please enter the quantity of {product}:\"))\n",
    "    total_products += inventory[product]\n",
    "\n",
    "\n",
    "customer_orders = set()\n",
    "\n",
    "# 2\n",
    "while True:\n",
    "    item = input(\"Please enter your order: \")\n",
    "    if item not in products:\n",
    "        print(\"Item not recognized\")\n",
    "    else:\n",
    "        customer_orders.add(item)\n",
    "    another_product = None\n",
    "    while another_product not in [\"yes\", \"no\"]:\n",
    "        another_product = input(\"Do you want to add another product? (yes/no): \").lower()\n",
    "    if another_product == \"no\":\n",
    "        break\n",
    "    \n",
    "\n",
    "\n",
    "print(customer_orders)\n",
    "\n",
    "\n",
    "order_status = (len(customer_orders), (len(customer_orders)/total_products)*100)\n",
    "\n",
    "\n",
    "print(f\"Order Statistics:\\nTotal Products Ordered: {order_status[0]}\\nPercentage of Products Ordered: {order_status[1]}%\")\n",
    "\n",
    "# 3\n",
    "for product in customer_orders:\n",
    "    inventory[product] -= 1\n",
    "\n",
    "\n",
    "for [key, value] in inventory.items():\n",
    "    print(f\"{key}: {value}\")"
   ]
  },
  {
   "cell_type": "code",
   "execution_count": null,
   "id": "7fabe79c-8b6d-4905-acb1-44faed788fc9",
   "metadata": {},
   "outputs": [],
   "source": []
  },
  {
   "cell_type": "code",
   "execution_count": null,
   "id": "a9c3b85f-93ad-432c-9c44-4014c36b6675",
   "metadata": {},
   "outputs": [],
   "source": []
  }
 ],
 "metadata": {
  "kernelspec": {
   "display_name": "Python 3 (ipykernel)",
   "language": "python",
   "name": "python3"
  },
  "language_info": {
   "codemirror_mode": {
    "name": "ipython",
    "version": 3
   },
   "file_extension": ".py",
   "mimetype": "text/x-python",
   "name": "python",
   "nbconvert_exporter": "python",
   "pygments_lexer": "ipython3",
   "version": "3.12.4"
  }
 },
 "nbformat": 4,
 "nbformat_minor": 5
}
